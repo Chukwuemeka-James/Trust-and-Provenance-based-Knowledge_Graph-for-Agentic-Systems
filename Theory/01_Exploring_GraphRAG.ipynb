{
 "cells": [
  {
   "cell_type": "markdown",
   "id": "f4813eed",
   "metadata": {},
   "source": [
    "### **From Local to Global: A GraphRAG Approach to Query-Focused Summarization**\n",
    "\n",
    "#### **[Resource link](https://arxiv.org/pdf/2404.16130)**"
   ]
  },
  {
   "cell_type": "markdown",
   "id": "3f70f29d",
   "metadata": {},
   "source": [
    "## 1. Introduction\n",
    "\n",
    "Retrieval-Augmented Generation (RAG) has become a popular way to improve large language models (LLMs). In RAG, documents are retrieved from a database, and then an LLM uses those documents to generate a response.\n",
    "\n",
    "However, traditional RAG faces **two challenges**:\n",
    "\n",
    "1. It retrieves only **local passages** without understanding the broader context.\n",
    "2. It lacks a **global view** of the knowledge across the dataset.\n",
    "\n",
    "To solve this, Microsoft introduced **GraphRAG**, which integrates **knowledge graphs** with traditional RAG. This approach not only retrieves passages but also uses **structured graph relationships** and **summarizations at multiple levels** (from local details to global insights).\n"
   ]
  },
  {
   "cell_type": "markdown",
   "id": "4bc6f602",
   "metadata": {},
   "source": [
    "In this workshop, we will study GraphRAG in **two phases**:\n",
    "\n",
    "* #### **Indexing Phase** – where the data is processed into a graph and hierarchical summaries.\n",
    "* #### **Query Phase** – where a user’s question is answered using the graph and summaries."
   ]
  },
  {
   "cell_type": "markdown",
   "id": "0e6853c8",
   "metadata": {},
   "source": [
    "> **Teaching Tip**: At this point, show a **side-by-side diagram**:\n",
    ">\n",
    "> * Traditional RAG = chunks → retrieve → LLM\n",
    "> * GraphRAG = chunks → entities/relations → graph + summaries → query\n"
   ]
  },
  {
   "cell_type": "code",
   "execution_count": null,
   "id": "d3c75480",
   "metadata": {
    "vscode": {
     "languageId": "rust"
    }
   },
   "outputs": [],
   "source": []
  },
  {
   "cell_type": "markdown",
   "id": "35394ff6",
   "metadata": {},
   "source": [
    "## **2. Indexing Phase**\n",
    "\n",
    "The **indexing phase** is like “preparing the library” before answering questions. GraphRAG processes the text into both a **graph structure** and **layered summaries**.\n",
    "\n",
    "#### Step 1: Text Chunking\n",
    "\n",
    "* Documents are divided into smaller text units (e.g., paragraphs or sentences).\n",
    "* Each chunk is small enough for an LLM to process efficiently.\n",
    "\n",
    "*Example:* Splitting a 200-page report into \\~500-word chunks.\n"
   ]
  },
  {
   "cell_type": "markdown",
   "id": "d978c992",
   "metadata": {},
   "source": [
    "#### Step 2: Entity and Relationship Extraction\n",
    "\n",
    "* From each chunk, GraphRAG extracts **entities** (people, organizations, places, concepts).\n",
    "* It also extracts **relationships** (who did what, how entities are connected).\n",
    "\n",
    "*Example:*\n",
    "\n",
    "> “Microsoft developed GraphRAG in 2023”\n",
    ">\n",
    "> * Entity 1: Microsoft\n",
    "> * Entity 2: GraphRAG\n",
    "> * Relationship: developed\n",
    "\n",
    "**In Knowledge graph construction the following happens:**\n",
    "\n",
    "* Entities become **nodes**.\n",
    "* Relationships become **edges**.\n",
    "* This results in a **Knowledge Graph (KG)** that captures connections across the dataset."
   ]
  },
  {
   "cell_type": "code",
   "execution_count": null,
   "id": "d1c62a6b",
   "metadata": {
    "vscode": {
     "languageId": "rust"
    }
   },
   "outputs": [],
   "source": []
  },
  {
   "cell_type": "markdown",
   "id": "c5c1e13b",
   "metadata": {},
   "source": [
    "#### Step 3: Community Detection\n",
    "\n",
    "Community detection is the process of **finding groups of closely related nodes** within the knowledge graph.\n",
    "\n",
    "* **Why it matters:**\n",
    "\n",
    "  * Real-world text is highly interconnected (entities link to many others). Without structure, the graph can be overwhelming.\n",
    "  * Communities represent *themes or clusters of meaning*. For example, in an article about AI, one community might form around “LLMs, GPT, and transformers,” while another forms around “data privacy, compliance, and regulations.”\n",
    "\n",
    "* **How it works:**\n",
    "\n",
    "  * Algorithms like **Louvain** or **Leiden** are used to maximize “modularity” — a score that measures how well the graph is divided into dense groups with sparse connections between them.\n",
    "  * Each node belongs to a single community, though in some advanced setups overlapping communities can exist.\n",
    "\n",
    "* **Key takeaway:**\n",
    "\n",
    "  > Community detection reduces complexity by organizing the graph into smaller, semantically meaningful clusters.\n",
    "\n"
   ]
  },
  {
   "cell_type": "code",
   "execution_count": null,
   "id": "3596e224",
   "metadata": {
    "vscode": {
     "languageId": "rust"
    }
   },
   "outputs": [],
   "source": []
  },
  {
   "cell_type": "markdown",
   "id": "8b669b83",
   "metadata": {},
   "source": [
    "#### Step 4: Hierarchical Community Structure\n",
    "\n",
    "Once basic communities are detected, GraphRAG takes it a step further by **building a hierarchy** — larger communities are broken down into smaller, more detailed ones.\n",
    "\n",
    "* **Why it matters:**\n",
    "\n",
    "  * Information exists at multiple levels of abstraction.\n",
    "  * Users may sometimes need a broad overview (root-level community) and other times very specific details (fine-grained sub-community).\n",
    "\n",
    "* **How it works:**\n",
    "\n",
    "  * Communities are recursively clustered, creating multiple layers.\n",
    "  * At the top (root level), you have a coarse-grained view of the entire dataset.\n",
    "  * Moving down the hierarchy gives progressively more detailed clusters.\n",
    "\n",
    "* **Example (from a dataset about AI research):**\n",
    "\n",
    "  * **Root level (C0):** “Artificial Intelligence Research”\n",
    "  * **High level (C1):** “Machine Learning Methods” vs. “AI Ethics & Regulation”\n",
    "  * **Low level (C2/C3):** “Transformer Architectures” vs. “Bias Mitigation Techniques”\n",
    "\n",
    "* **Key takeaway for students:**\n",
    "\n",
    "  > Hierarchical structures allow GraphRAG to flexibly serve queries that need either **general summaries** or **fine-grained details**.\n"
   ]
  },
  {
   "cell_type": "code",
   "execution_count": null,
   "id": "662ce2f5",
   "metadata": {
    "vscode": {
     "languageId": "rust"
    }
   },
   "outputs": [],
   "source": []
  },
  {
   "cell_type": "markdown",
   "id": "7411fbbd",
   "metadata": {},
   "source": [
    "### Step 6: Community Levels\n",
    "\n",
    "Microsoft’s GraphRAG implementation defines explicit levels to organize communities:\n",
    "\n",
    "* **C0 (Root level):**\n",
    "\n",
    "  * Represents the *entire dataset*.\n",
    "  * Broad, high-level summary that ties everything together.\n",
    "  * Useful for “give me an overview” type questions.\n",
    "\n",
    "* **C1 (High level):**\n",
    "\n",
    "  * Captures *major themes* in the data.\n",
    "  * Often corresponds to chapters in a book, or main sections of a report.\n",
    "\n",
    "* **C2 / C3 (Lower levels):**\n",
    "\n",
    "  * Breaks down high-level themes into finer categories.\n",
    "  * Example: “AI Ethics” (C1) → “Bias in Training Data” (C2) → “Gender Bias in NLP Models” (C3).\n",
    "\n",
    "* **Why it matters for querying:**\n",
    "\n",
    "  * During the **query phase**, the system can pick the right community level depending on the question.\n",
    "  * A broad “What is this document about?” query retrieves from **C0**.\n",
    "  * A specific “What are the risks of bias in GPT models?” query drills down into **C2/C3**.\n",
    "\n",
    "* **Key takeaway for students:**\n",
    "\n",
    "  > Community levels act like a *table of contents*, where each level of depth gives more detail and context.\n"
   ]
  },
  {
   "cell_type": "markdown",
   "id": "d29a444b",
   "metadata": {},
   "source": [
    "```tree\n",
    "C0 (All data)\n",
    " ├── C1: Climate\n",
    " │    ├── C2: Emissions\n",
    " │    └── C2: Renewable Energy\n",
    " └── C1: AI\n",
    "      ├── C2: NLP\n",
    "      └── C2: Computer Vision\n",
    "```"
   ]
  },
  {
   "cell_type": "code",
   "execution_count": null,
   "id": "52e07088",
   "metadata": {
    "vscode": {
     "languageId": "rust"
    }
   },
   "outputs": [],
   "source": []
  },
  {
   "cell_type": "markdown",
   "id": "0842149a",
   "metadata": {},
   "source": [
    "#### Step 7: Community Summarization\n",
    "\n",
    "Community Summarization is the process of generating **natural language summaries** for each detected community at every level of the hierarchy.\n",
    "\n",
    "* **Why it matters:**\n",
    "\n",
    "  * Communities are just clusters of entities and relationships. While structurally useful, they are hard to interpret directly.\n",
    "  * Summarization creates a **semantic layer** on top of the graph — compact text that captures the essence of each community.\n",
    "  * This allows both humans and LLMs to quickly understand what a community represents without processing all underlying nodes.\n",
    "\n",
    "* **How it works:**\n",
    "\n",
    "  1. Collect nodes and edges from a community (at C0, C1, C2, or C3).\n",
    "  2. Extract representative text chunks associated with those nodes.\n",
    "  3. Use an LLM to generate a concise summary, highlighting the main theme, relationships, and key entities.\n",
    "  4. Store the summary alongside the community metadata for efficient retrieval.\n",
    "\n",
    "* **Community Levels in Summarization:**\n",
    "\n",
    "  * **C0 (Root level):** One broad summary for the entire dataset.\n",
    "  * **C1 (High level):** Summaries describe major thematic clusters.\n",
    "  * **C2/C3 (Lower levels):** Summaries provide increasingly detailed insights.\n",
    "\n",
    "* **Example (dataset about AI research):**\n",
    "\n",
    "  * **C0 summary:** “This dataset discusses modern artificial intelligence, covering methods, applications, and ethical considerations.”\n",
    "  * **C1 summary (Methods cluster):** “This community focuses on deep learning techniques, emphasizing transformers, optimization strategies, and scaling laws.”\n",
    "  * **C2 summary (Transformers sub-cluster):** “Summarizes research on attention mechanisms, pretraining methods, and fine-tuning for domain adaptation.”\n",
    "\n",
    "* **Why it’s critical for Querying:**\n",
    "\n",
    "  * Without summaries, the system would need to traverse and reason over raw graphs, which is inefficient.\n",
    "  * With summaries, GraphRAG can directly retrieve concise, context-rich text aligned to the query’s scope, improving both accuracy and efficiency.\n",
    "\n",
    "**Key takeaway for students:**\n",
    "\n",
    "> Community Summarization transforms structural graph clusters into **human- and machine-readable summaries**, enabling flexible retrieval and reasoning across multiple levels of detail."
   ]
  },
  {
   "cell_type": "code",
   "execution_count": null,
   "id": "a3ba06d4",
   "metadata": {
    "vscode": {
     "languageId": "rust"
    }
   },
   "outputs": [],
   "source": []
  },
  {
   "cell_type": "markdown",
   "id": "ebced702",
   "metadata": {},
   "source": [
    "## 3. Query Phase\n",
    "\n",
    "Once the data is indexed, GraphRAG can now **answer queries** using the graph and summaries.\n",
    "\n",
    "### Step 1: User Query\n",
    "\n",
    "The system receives a user question.\n",
    "\n",
    "*Example:* “What are the main themes in renewable energy research?”"
   ]
  },
  {
   "cell_type": "code",
   "execution_count": null,
   "id": "0e051ee7",
   "metadata": {
    "vscode": {
     "languageId": "rust"
    }
   },
   "outputs": [],
   "source": []
  },
  {
   "cell_type": "markdown",
   "id": "2f8f7b1e",
   "metadata": {},
   "source": [
    "### Step 2: Community Level Selection\n",
    "\n",
    "GraphRAG decides which **community level** best fits the query:\n",
    "\n",
    "* Global query → use high-level summaries (C1).\n",
    "* Specific query → use fine-grained summaries (C2/C3).\n",
    "\n"
   ]
  },
  {
   "cell_type": "markdown",
   "id": "fa80b8d5",
   "metadata": {},
   "source": [
    "### Step 3: Retrieve Relevant Summaries\n",
    "\n",
    "The system pulls the most relevant **summaries** (instead of raw text chunks).\n",
    "This saves cost and ensures higher-level reasoning."
   ]
  },
  {
   "cell_type": "markdown",
   "id": "ec857341",
   "metadata": {},
   "source": [
    "### Step 4: Partial Response Generation\n",
    "\n",
    "For each retrieved summary, the LLM generates a **partial answer**.\n",
    "\n",
    "*Example:*\n",
    "\n",
    "* From C2: “Wind Energy research focuses on offshore systems.”\n",
    "* From C2: “Solar Energy research highlights efficiency of perovskite cells.”\n"
   ]
  },
  {
   "cell_type": "markdown",
   "id": "aab15beb",
   "metadata": {},
   "source": [
    "### Step 5: Response Aggregation\n",
    "\n",
    "The partial responses are **merged** into a final coherent answer.\n",
    "\n",
    "*Example (Final Answer):*\n",
    "\n",
    "> Renewable energy research mainly focuses on wind (especially offshore systems) and solar (particularly perovskite efficiency).\n"
   ]
  },
  {
   "cell_type": "code",
   "execution_count": null,
   "id": "4dfc5363",
   "metadata": {
    "vscode": {
     "languageId": "rust"
    }
   },
   "outputs": [],
   "source": []
  },
  {
   "cell_type": "markdown",
   "id": "3511100c",
   "metadata": {},
   "source": [
    "## 4. Putting It Together\n",
    "\n",
    "GraphRAG is powerful because it:\n",
    "\n",
    "* Provides **global context** (via community summaries).\n",
    "* Preserves **local detail** (via fine-grained communities).\n",
    "* Balances **efficiency** and **accuracy**."
   ]
  },
  {
   "cell_type": "markdown",
   "id": "253dbdaf",
   "metadata": {},
   "source": [
    "### References\n",
    "\n",
    "* Microsoft GraphRAG Documentation: [https://microsoft.github.io/graphrag/](https://microsoft.github.io/graphrag/)\n",
    "* GraphRAG GitHub: [https://github.com/microsoft/graphrag](https://github.com/microsoft/graphrag)\n",
    "* Research Paper: [From Local to Global: A GraphRAG Approach to Query-Focused Summarization](https://arxiv.org/pdf/2404.16130)\n"
   ]
  },
  {
   "cell_type": "code",
   "execution_count": null,
   "id": "a7a621b5",
   "metadata": {
    "vscode": {
     "languageId": "rust"
    }
   },
   "outputs": [],
   "source": []
  }
 ],
 "metadata": {
  "language_info": {
   "name": "python"
  }
 },
 "nbformat": 4,
 "nbformat_minor": 5
}
